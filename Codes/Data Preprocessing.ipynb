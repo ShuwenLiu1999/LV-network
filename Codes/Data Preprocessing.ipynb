{
 "cells": [
  {
   "metadata": {},
   "cell_type": "markdown",
   "source": [
    "This is for generating Weather Data contraining\n",
    "    1. External Air Temperature\n",
    "    2. Global Horizontal Irradiance (GHI)\n",
    "For running the dwelling heating simulation model\n",
    "\n",
    "The source datafile is downloaded from ShinyWeatherData, which is a free service for downloading weather data."
   ],
   "id": "f996bb1687cc45aa"
  },
  {
   "metadata": {
    "ExecuteTime": {
     "end_time": "2025-08-04T15:01:46.036580Z",
     "start_time": "2025-08-04T15:01:46.003115Z"
    }
   },
   "cell_type": "code",
   "source": [
    "\n",
    "import re\n",
    "import pandas as pd\n",
    "\n",
    "# --- path to the raw file you downloaded from ShinyWeatherData -------------\n",
    "FILE = r\"E:\\Python projects\\RC model\\Weather Data\\file6b95ed94fce_lat=51.5_lng=-0.25_period=20180201-20180331.csv\"          # ← change if your filename differs\n",
    "OUT  = r\"E:\\Python projects\\RC model\\Weather Data\\Weather_NW9_2018Feb.csv\"              # optional: where to save the result\n",
    "# ---------------------------------------------------------------------------\n",
    "\n",
    "df = pd.read_csv(FILE, skiprows=11, usecols=['datetime','t2m','ssrd'],index_col='datetime')\n",
    "df.index = pd.to_datetime(df.index, format='%Y-%m-%d %H:%M:%S')\n",
    "df.rename(columns={'t2m': \"External_Air_Temperature\", 'ssrd': \"GHI\"}, inplace=True)\n",
    "df_30 = df.resample(\"30min\").mean().interpolate(method=\"linear\")\n",
    "print(df_30.head(50))\n",
    "\n",
    "df_30.to_csv(OUT, index=True, header=True,index_label='Timestamp')"
   ],
   "id": "initial_id",
   "outputs": [
    {
     "name": "stdout",
     "output_type": "stream",
     "text": [
      "                     External_Air_Temperature    GHI\n",
      "datetime                                            \n",
      "2018-02-01 00:00:00                      2.30    0.0\n",
      "2018-02-01 00:30:00                      2.35    0.0\n",
      "2018-02-01 01:00:00                      2.40    0.0\n",
      "2018-02-01 01:30:00                      2.50    0.0\n",
      "2018-02-01 02:00:00                      2.60    0.0\n",
      "2018-02-01 02:30:00                      2.75    0.0\n",
      "2018-02-01 03:00:00                      2.90    0.0\n",
      "2018-02-01 03:30:00                      2.85    0.0\n",
      "2018-02-01 04:00:00                      2.80    0.0\n",
      "2018-02-01 04:30:00                      3.05    0.0\n",
      "2018-02-01 05:00:00                      3.30    0.0\n",
      "2018-02-01 05:30:00                      3.30    0.0\n",
      "2018-02-01 06:00:00                      3.30    0.0\n",
      "2018-02-01 06:30:00                      3.20    0.0\n",
      "2018-02-01 07:00:00                      3.10    0.0\n",
      "2018-02-01 07:30:00                      3.15    1.0\n",
      "2018-02-01 08:00:00                      3.20    2.0\n",
      "2018-02-01 08:30:00                      3.50   34.0\n",
      "2018-02-01 09:00:00                      3.80   66.0\n",
      "2018-02-01 09:30:00                      4.35  123.0\n",
      "2018-02-01 10:00:00                      4.90  180.0\n",
      "2018-02-01 10:30:00                      5.35  227.5\n",
      "2018-02-01 11:00:00                      5.80  275.0\n",
      "2018-02-01 11:30:00                      6.05  267.5\n",
      "2018-02-01 12:00:00                      6.30  260.0\n",
      "2018-02-01 12:30:00                      6.45  277.5\n",
      "2018-02-01 13:00:00                      6.60  295.0\n",
      "2018-02-01 13:30:00                      6.60  266.0\n",
      "2018-02-01 14:00:00                      6.60  237.0\n",
      "2018-02-01 14:30:00                      6.55  215.0\n",
      "2018-02-01 15:00:00                      6.50  193.0\n",
      "2018-02-01 15:30:00                      6.35  145.5\n",
      "2018-02-01 16:00:00                      6.20   98.0\n",
      "2018-02-01 16:30:00                      5.95   57.0\n",
      "2018-02-01 17:00:00                      5.70   16.0\n",
      "2018-02-01 17:30:00                      5.30    8.0\n",
      "2018-02-01 18:00:00                      4.90    0.0\n",
      "2018-02-01 18:30:00                      4.55    0.0\n",
      "2018-02-01 19:00:00                      4.20    0.0\n",
      "2018-02-01 19:30:00                      4.10    0.0\n",
      "2018-02-01 20:00:00                      4.00    0.0\n",
      "2018-02-01 20:30:00                      4.00    0.0\n",
      "2018-02-01 21:00:00                      4.00    0.0\n",
      "2018-02-01 21:30:00                      4.10    0.0\n",
      "2018-02-01 22:00:00                      4.20    0.0\n",
      "2018-02-01 22:30:00                      4.05    0.0\n",
      "2018-02-01 23:00:00                      3.90    0.0\n",
      "2018-02-01 23:30:00                      3.70    0.0\n",
      "2018-02-02 00:00:00                      3.50    0.0\n",
      "2018-02-02 00:30:00                      3.35    0.0\n"
     ]
    }
   ],
   "execution_count": 11
  }
 ],
 "metadata": {
  "kernelspec": {
   "display_name": "Python 3",
   "language": "python",
   "name": "python3"
  },
  "language_info": {
   "codemirror_mode": {
    "name": "ipython",
    "version": 2
   },
   "file_extension": ".py",
   "mimetype": "text/x-python",
   "name": "python",
   "nbconvert_exporter": "python",
   "pygments_lexer": "ipython2",
   "version": "2.7.6"
  }
 },
 "nbformat": 4,
 "nbformat_minor": 5
}
